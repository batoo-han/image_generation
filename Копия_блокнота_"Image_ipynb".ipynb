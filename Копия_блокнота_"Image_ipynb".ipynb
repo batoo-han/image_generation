{
  "nbformat": 4,
  "nbformat_minor": 0,
  "metadata": {
    "colab": {
      "provenance": [],
      "gpuType": "T4",
      "authorship_tag": "ABX9TyNF+aou+A/fFKim9TY8ysfb",
      "include_colab_link": true
    },
    "kernelspec": {
      "name": "python3",
      "display_name": "Python 3"
    },
    "language_info": {
      "name": "python"
    },
    "accelerator": "GPU"
  },
  "cells": [
    {
      "cell_type": "markdown",
      "metadata": {
        "id": "view-in-github",
        "colab_type": "text"
      },
      "source": [
        "<a href=\"https://colab.research.google.com/github/batoo-han/image_generation/blob/main/%D0%9A%D0%BE%D0%BF%D0%B8%D1%8F_%D0%B1%D0%BB%D0%BE%D0%BA%D0%BD%D0%BE%D1%82%D0%B0_%22Image_ipynb%22.ipynb\" target=\"_parent\"><img src=\"https://colab.research.google.com/assets/colab-badge.svg\" alt=\"Open In Colab\"/></a>"
      ]
    },
    {
      "cell_type": "markdown",
      "source": [
        "Установка библиотеки модели"
      ],
      "metadata": {
        "id": "F5i2idFW2vCm"
      }
    },
    {
      "cell_type": "code",
      "execution_count": null,
      "metadata": {
        "id": "DMIcEG8h1mTt"
      },
      "outputs": [],
      "source": [
        "!pip -q install git+https://github.com/huggingface/diffusers transformers accelerate"
      ]
    },
    {
      "cell_type": "markdown",
      "source": [
        "Импорт библиотек"
      ],
      "metadata": {
        "id": "MFeFVbtJ46ko"
      }
    },
    {
      "cell_type": "code",
      "source": [
        "#импорт библиотек\n",
        "from diffusers import StableDiffusionXLPipeline\n",
        "from diffusers.utils import make_image_grid\n",
        "import torch"
      ],
      "metadata": {
        "id": "dq9lhSvI5A_4"
      },
      "execution_count": null,
      "outputs": []
    },
    {
      "cell_type": "markdown",
      "source": [
        "**Основной код**"
      ],
      "metadata": {
        "id": "vjMKZ0uS3Gem"
      }
    },
    {
      "cell_type": "code",
      "source": [
        "#установка модели\n",
        "pipe = StableDiffusionXLPipeline.from_pretrained(\"segmind/SSD-1B\",    torch_dtype=torch.float16, use_safetensors=True, variant=\"fp16\")\n",
        "pipe.to(\"cuda\")\n",
        "\n",
        "prompt = \"Rustic house, old windows, snow-covered roofs, forest, twilight, impressionistic painting style.\" # Позитивный промпт\n",
        "neg_prompt = \"No metal\" # Негативный промпт\n",
        "\n",
        "images = pipe(prompt=prompt, negative_prompt=neg_prompt, width=512, height=512, num_images_per_prompt=4).images\n",
        "make_image_grid(images, rows=2, cols=2)"
      ],
      "metadata": {
        "id": "fb1rft-N2t8r"
      },
      "execution_count": null,
      "outputs": []
    }
  ]
}